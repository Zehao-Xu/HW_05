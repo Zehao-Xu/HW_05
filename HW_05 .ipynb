{
 "cells": [
  {
   "cell_type": "markdown",
   "id": "9057c3bd",
   "metadata": {},
   "source": [
    "## Question 1:\n",
    "An idea that can be tested should be measurable with data, not a concept or idea. And a good null hypothesis should fulfill this condition of being testable, usually a null hypothesis indicates that there is no effect or no difference, and we should be able to easily decide whether to reject the null hypothesis based on the data."
   ]
  },
  {
   "cell_type": "markdown",
   "id": "26b2364d",
   "metadata": {},
   "source": [
    "## Question 2:\n",
    "\n",
    "Imagine you want to estimate the average height of the population of an entire country (µ), and since it is impossible to measure the height of every individual, you can select a subset of the population to serve as your sample(𝑥) and measure the average of their heights (µ0) to predict the average height of the population of the entire country. When we do a hypothesis test, we predict the average height of the population by measuring the average height of the sample, and that prediction is the hypothesized mean. The key point here is that we are not interested in the average height of the sample, but in predicting the average height of the population."
   ]
  },
  {
   "cell_type": "markdown",
   "id": "5f4dff3d",
   "metadata": {},
   "source": [
    "## Question 3:\n",
    "\n",
    "When calculating p-values, assuming the null hypothesis to be true helps us understand what our data should look like if there were no effects or differences. And we can decide if there is a true effect or difference by looking at where the p-value is in the sampling distribution, and the p-value is the area under this curve, the size of the p-value determines the probability that we will get a result where the null hypothesis is true, and if the p-value is very small, it means that our actual results are different from our expected results, which makes us wonder if the null hypothesis is wrong."
   ]
  },
  {
   "cell_type": "markdown",
   "id": "e3227570",
   "metadata": {},
   "source": [
    "## Question 4: \n",
    "\n",
    "The p-value represents the probability of an observed extreme situation occurring if the null hypothesis is true. When the probability of an extreme case event occurring is very small and we observe it, then we can presume that the actual situation is not the same as the one set out by the null hypothesis, then we are justified in rejecting the null hypothesis"
   ]
  },
  {
   "cell_type": "markdown",
   "id": "35a38e4c",
   "metadata": {},
   "source": [
    "## Question 5:\n",
    "\n",
    "We first need to set up the null hypothesis, in this case, the probability of kissing couples tilt their head to the right or left is 50%. \n",
    "\n",
    "Then to simulate the experiment, we randomy decide if the head tilt is to the right or left using 50/50 probabilty for each couple for 124 times. Count the number of couples tilting their heads to the right.\n",
    "\n",
    "Repeat the simulation process a large number times and for each simulation, caculate how many times we get at least 80 couples tilting their heads to the right.\n",
    "\n",
    "At last, calculate the p-value, the p-value is the proportion of simulations where the number of right tilts is at least 80. Once the p-value is simulated, use the provided table to interpret the strength of the evidence again st null hypothesis. If the p-value is very small, then we have the reason to reject the null hypothesis."
   ]
  },
  {
   "cell_type": "markdown",
   "id": "21b83642",
   "metadata": {},
   "source": [
    "## Question 6:\n",
    "\n",
    "We can assume that Fido is innocent, and then go ahead and figure out the probability that a random person enters the house and puts a garbage can cover over Fido's head, and if that probability is very small, then we have reason to suspect that Fido is guilty. But there is no specific p-value that determines whether Fido is guilty or innocent; we can only use the critical value of the significance level to determine whether the evidence against the null hypothesis is strong enough to reject the null hypothesis."
   ]
  },
  {
   "cell_type": "code",
   "execution_count": 34,
   "id": "f12da77a",
   "metadata": {},
   "outputs": [
    {
     "data": {
      "text/plain": [
       "0.0563"
      ]
     },
     "execution_count": 34,
     "metadata": {},
     "output_type": "execute_result"
    }
   ],
   "source": [
    "observed_statistic = (patient_data.HealthScoreChange > 0).mean()\n",
    "for i in range(number_of_simulations):\n",
    "    random_improvement = np.random.choice([0, 1], size=len(patient_data), replace=True)\n",
    "    IncreaseProportionSimulations_underH0random[i] = random_improvement.mean()\n",
    "SimStats_as_or_more_extreme_than_ObsStat = \\\n",
    "    abs(simulated_statistics - population_parameter_value_under_H0) >= \\\n",
    "    abs(observed_statistic - population_parameter_value_under_H0)\n",
    "p_value = (SimStats_as_or_more_extreme_than_ObsStat).sum() / number_of_simulations\n",
    "SimStats_as_or_more_extreme_than_ObsStat = \\\n",
    "    simulated_statistics >= observed_statistic\n",
    "p_value = (SimStats_as_or_more_extreme_than_ObsStat).sum() / number_of_simulations\n",
    "p_value"
   ]
  },
  {
   "cell_type": "markdown",
   "id": "d4123e8a",
   "metadata": {},
   "source": [
    "## Question 7: \n",
    "\n",
    "When comparing a two-tailed test to a one-tailed test, the p-value for a one-tailed test is usually smaller because in a one-tailed test we only consider one side of the distribution, and there are fewer results that are considered to be “equally extreme or more extreme” than in a two-tailed test, so the p-value for a one-tailed test is usually smaller."
   ]
  },
  {
   "cell_type": "code",
   "execution_count": 40,
   "id": "50a71595",
   "metadata": {},
   "outputs": [
    {
     "name": "stdout",
     "output_type": "stream",
     "text": [
      "Sample proportion (p̂): 0.6125\n",
      "Standard error (SE): 0.05590169943749474\n",
      "Test statistic (z): 2.0124611797498115\n",
      "One-tailed p-value: 0.022085672454221217\n",
      "Reject the null hypothesis: There is evidence that students can distinguish the pouring order.\n"
     ]
    }
   ],
   "source": [
    "import numpy as np\n",
    "import scipy.stats as stats\n",
    "\n",
    "# Set random seed for reproducibility\n",
    "np.random.seed(42)\n",
    "\n",
    "# Given data\n",
    "n = 80  # Total number of students\n",
    "x = 49  # Number of students who correctly identified the order\n",
    "p_hat = x / n  # Sample proportion\n",
    "p_0 = 0.5  # Null hypothesis proportion\n",
    "\n",
    "# Standard error under H0\n",
    "SE = np.sqrt((p_0 * (1 - p_0)) / n)\n",
    "\n",
    "# Test statistic (z-score)\n",
    "z = (p_hat - p_0) / SE\n",
    "\n",
    "# One-tailed p-value (right tail)\n",
    "p_value = 1 - stats.norm.cdf(z)\n",
    "\n",
    "# Output results\n",
    "print(\"Sample proportion (p̂):\", p_hat)\n",
    "print(\"Standard error (SE):\", SE)\n",
    "print(\"Test statistic (z):\", z)\n",
    "print(\"One-tailed p-value:\", p_value)\n",
    "\n",
    "# Interpretation\n",
    "alpha = 0.05  # Significance level\n",
    "if p_value < alpha:\n",
    "    print(\"Reject the null hypothesis: There is evidence that students can distinguish the pouring order.\")\n",
    "else:\n",
    "    print(\"Fail to reject the null hypothesis: There is not enough evidence that students can distinguish the pouring order.\")"
   ]
  },
  {
   "cell_type": "markdown",
   "id": "10d928fb",
   "metadata": {},
   "source": [
    "## Question 8:\n",
    "\n",
    "The population is the set of all STA130 students, while the sample only consists of 80 random students selected from this population.The parameter of interest is the true proportion of all STA130 students who can correctly indentify whether the milk or tea was poured first.\n",
    "\n",
    "The formal null hypothesis states that none of the students is able to determine whether the milk or tea was poured first, meaning that students are simply guessing.\n",
    "\n",
    "In informal interpretation, the null hypothesis means that students have no real skill in distinguishing whether the milk or tea was poured first and was simply guessing with a 50% chance of being correct.\n",
    "\n",
    "The alternative hypothesis is that students are not guessing, they really do have an ability to tell whether the milk or tea was poured first.\n",
    "\n",
    "We assume the null hypothesis is true and conduct a hypothesis test. We use the sampling distribution of the proportion to determine the probability of oberserving the result we have, then calculate the sample proportion of correct responese. Next,we take the difference between the observed sample proportion and the hypothesized population proportion , divided by the standard error. Finally,using a standard normal distribution, we compute the p-value for the test statistic to dertermind the validity of the null hypothesis. In my case, the one-tailed p-value is around 0.022, which is smaller then the significance level of 0.05,then we have evidence to reject null hypothesis and lead to the result of students can distinguish whether the milk or tea was poured first.\n",
    "\n",
    "The analysis performed on the STA130 students' data provides evidence to reject the null hypothesis. The p-value (0.022) is less than the significance level of 0.05, suggesting that there is evidence that STA130 students have an ability to distinguish whether the milk or tea was poured first."
   ]
  },
  {
   "cell_type": "markdown",
   "id": "645c49ac",
   "metadata": {},
   "source": [
    "## Question 9:\n",
    "\n",
    "Yes"
   ]
  },
  {
   "cell_type": "markdown",
   "id": "0dc38732",
   "metadata": {},
   "source": [
    "## Summary of Chatbot:\n",
    "\n",
    "Certainly! Here’s a brief summary of our conversation:\n",
    "\n",
    "Hypothesis Testing Process: You described the steps for conducting a hypothesis test to determine if students can distinguish whether milk or tea was poured first. Your description covered:\n",
    "\n",
    "Assuming the null hypothesis (𝐻0) is true.\n",
    "Using the sampling distribution of the proportion to assess the probability of the observed outcome.\n",
    "Calculating the sample proportion and the test statistic.\n",
    "Computing the p-value to determine the validity of 𝐻0\n",
    "Concluding that, given a p-value of around 0.022, we have evidence to reject \n",
    "𝐻0\n",
    "Feedback and Clarification: I provided some clarifications on using more precise language:\n",
    "\n",
    "Clarified that the p-value represents the probability of obtaining a result as extreme as, or more extreme than, the observed value under 𝐻0\n",
    "Suggested wording improvements for better clarity, particularly in comparing the p-value to the significance level.\n",
    "Emphasized that while statistical significance is indicated, it does not necessarily imply practical significance.\n",
    "Overall, your understanding of the hypothesis testing process was correct, and the conversation focused on refining how to communicate the results effectively."
   ]
  },
  {
   "cell_type": "markdown",
   "id": "96497d6e",
   "metadata": {},
   "source": [
    "## Link to Chatbot conversation:\n",
    "\n",
    "https://chatgpt.com/share/67332bfe-a31c-8003-948d-61652ea1ab69"
   ]
  }
 ],
 "metadata": {
  "kernelspec": {
   "display_name": "Python 3 (ipykernel)",
   "language": "python",
   "name": "python3"
  },
  "language_info": {
   "codemirror_mode": {
    "name": "ipython",
    "version": 3
   },
   "file_extension": ".py",
   "mimetype": "text/x-python",
   "name": "python",
   "nbconvert_exporter": "python",
   "pygments_lexer": "ipython3",
   "version": "3.11.6"
  }
 },
 "nbformat": 4,
 "nbformat_minor": 5
}
